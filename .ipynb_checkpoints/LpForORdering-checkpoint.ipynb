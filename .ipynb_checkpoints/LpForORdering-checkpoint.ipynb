{
 "cells": [
  {
   "cell_type": "code",
   "execution_count": null,
   "id": "c021eb92",
   "metadata": {},
   "outputs": [],
   "source": [
    "# In this notebook, qw do extensive experiments to check if the\n",
    "# properties of the linear programs we have proposed for peer review \n",
    "#evaluation"
   ]
  },
  {
   "cell_type": "code",
   "execution_count": 30,
   "id": "815504dd",
   "metadata": {},
   "outputs": [],
   "source": [
    "using NBInclude , Plots, StatsBase , Arpack, Statistics, Random, Distributions,LinearAlgebra, Base\n",
    "using JuMP, MosekTools, SparseArrays, Gurobi, IterTools \n"
   ]
  },
  {
   "cell_type": "code",
   "execution_count": null,
   "id": "61bdf5b4",
   "metadata": {},
   "outputs": [],
   "source": [
    "# meta parameters:\n",
    "#n: number of students\n",
    "#q: number of questions a student creates, per round. In real life scenario, the number\n",
    "#w: vector of students quality \n",
    "#k: number of people correctly answering a question\n",
    "#l: number of people taking a question."
   ]
  },
  {
   "cell_type": "code",
   "execution_count": 44,
   "id": "28d03fa2",
   "metadata": {},
   "outputs": [
    {
     "data": {
      "text/plain": [
       "createAnswerProbabilitiesBLT (generic function with 1 method)"
      ]
     },
     "execution_count": 44,
     "metadata": {},
     "output_type": "execute_result"
    }
   ],
   "source": [
    "#Function to create a matrix containing the probability P(i>j) of student\n",
    "#i answering correctly a question made by j. We use the RLT model, and \n",
    "#for this function we asume no dependance of question quality: answering\n",
    "# a question well or not is simply a function of the student quality w.\n",
    "#@param w: vector of students quality, vector has length n, w in [0,1].\n",
    "function createAnswerProbabilitiesBLT(w)\n",
    "    dim= length(w)\n",
    "    Q = zeros(Float64,(dim, dim))\n",
    "    for i in 1:dim\n",
    "        for j in 1: dim\n",
    "          Q[i,j]= 1/(1+exp(-(w[i]-w[j])))  \n",
    "        end\n",
    "    end\n",
    "    return (Q)\n",
    "end"
   ]
  },
  {
   "cell_type": "code",
   "execution_count": 43,
   "id": "fb952485",
   "metadata": {},
   "outputs": [
    {
     "data": {
      "text/plain": [
       "createAnsweredQuestions (generic function with 1 method)"
      ]
     },
     "execution_count": 43,
     "metadata": {},
     "output_type": "execute_result"
    }
   ],
   "source": [
    "#function that returns a dictionary containing the questions that\n",
    "# each student answered. Keys are students.\n",
    "# @param n number of students.\n",
    "# @param m number of questions. m is a multiple of n.\n",
    "# @param number_questions_taken number of questions each student takes\n",
    "function createAnsweredQuestions(n,m,number_questions_taken)\n",
    "        dict = Dict()   \n",
    "    for i in 1:n      \n",
    "    questions = collect(1:m)\n",
    "        sampled = sample( deleteat!(questions, findall(x->x==i,questions)),number_questions_taken,replace=false )   \n",
    "       # return(dict)\n",
    "        dict[i] =  sampled\n",
    "    end\n",
    "    return(dict)\n",
    "end"
   ]
  },
  {
   "cell_type": "code",
   "execution_count": null,
   "id": "b4081075",
   "metadata": {},
   "outputs": [],
   "source": []
  },
  {
   "cell_type": "code",
   "execution_count": 33,
   "id": "734359f9",
   "metadata": {},
   "outputs": [
    {
     "data": {
      "text/plain": [
       "Dict{Any, Any} with 5 entries:\n",
       "  5 => [4, 1, 3]\n",
       "  4 => [2, 5, 3]\n",
       "  2 => [5, 4, 3]\n",
       "  3 => [1, 5, 4]\n",
       "  1 => [4, 2, 3]"
      ]
     },
     "execution_count": 33,
     "metadata": {},
     "output_type": "execute_result"
    }
   ],
   "source": [
    "answered = createAnsweredQuestions(5,5,3)"
   ]
  },
  {
   "cell_type": "code",
   "execution_count": null,
   "id": "7efa823a",
   "metadata": {},
   "outputs": [],
   "source": []
  },
  {
   "cell_type": "code",
   "execution_count": 55,
   "id": "034686ba",
   "metadata": {},
   "outputs": [
    {
     "data": {
      "text/plain": [
       "sampleStudentQuestionMatrix (generic function with 2 methods)"
      ]
     },
     "execution_count": 55,
     "metadata": {},
     "output_type": "execute_result"
    }
   ],
   "source": [
    "#Function to create a student-question matrix. we have n students\n",
    "# and m questions. We assume m is a multiple of n. \n",
    "# te matrix contains a 1 if the student answered correctly the question.\n",
    "#@studentQuality: underliying quality of the students.\n",
    "#param takenQuestions dictionary that indicates which questions student i takes.\n",
    "# n = length(studentQuality)\n",
    "#@ returns a matrix M where M_ij denotes if student i answered question\n",
    "#j correctly. \n",
    "# For now, we ignore the question difficulty, and simply set the probability \n",
    "#of answerng a question correctly as the quality w of a student\n",
    "# We assume each students takes questions_taken questions 1=<questions_taken<=n\n",
    "function sampleStudentQuestionMatrix(m,number_questions_taken,questionsTaken,studentQuality)\n",
    "    n = length(studentQuality)\n",
    "    M = zeros(n,m)\n",
    "    for i in 1:n\n",
    "       \n",
    "         for j in questionsTaken[i]      \n",
    "            \n",
    "            got_it_correctly = rand(Binomial(1,studentQuality[i]),1)[1]\n",
    "            if(got_it_correctly == 1)\n",
    "            \n",
    "            M[i,j] = 1\n",
    "            else \n",
    "                M[i,j] = -1\n",
    "            end\n",
    "             \n",
    "            \n",
    "        end\n",
    "    end\n",
    "    return(M)\n",
    "end"
   ]
  },
  {
   "cell_type": "code",
   "execution_count": 62,
   "id": "d7db9922",
   "metadata": {},
   "outputs": [
    {
     "data": {
      "text/plain": [
       "computeOrderedPairs (generic function with 1 method)"
      ]
     },
     "execution_count": 62,
     "metadata": {},
     "output_type": "execute_result"
    }
   ],
   "source": [
    "# compute pairwise comparaisons\n",
    "# for each student, we compute the comparaisons between questions.\n",
    "# we assume that all of the questions can be compared.\n",
    "# the probability of comparing favourably is given by the BTL model,\n",
    "# which we have computed in createAnswerProbabilitiesBLT.\n",
    "#m the total number of questions\n",
    "#@param questions_taken a dictionary of student- vectors of questions taken by each student.\n",
    "# @ returns a dictionary of student- ordered pairs , indicating which question was better ranked by student i\n",
    "\n",
    "function computeOrderedPairs(questions_taken,number_questions_taken,m,BLTMatrix)\n",
    "\n",
    "    comparaisons = Dict()\n",
    "    n = size(BLTMatrix)[1]\n",
    "    for i in 1:n\n",
    "    matrixResult = zeros(m,m)\n",
    "        currentQuestions = get(questions_taken,i,0)\n",
    "    \n",
    "      question_pairs =  collect(subsets(currentQuestions,2)) \n",
    "      for j in question_pairs\n",
    "           sampleProbability =  BLTMatrix[j[1],j[2]]\n",
    "           sampleOutcome = rand(Binomial(1,sampleProbability),1)[1] \n",
    "        if(sampleOutcome== 1)\n",
    "                matrixResult[j[1],j[2]] = 1\n",
    "                 matrixResult[j[2],j[1]] = -1\n",
    "                \n",
    "        else\n",
    "                 matrixResult[j[1],j[2]] = -1\n",
    "                 matrixResult[j[2],j[1]] = 1\n",
    "            end\n",
    "            \n",
    "        end\n",
    "    comparaisons[i] = matrixResult\n",
    "    end\n",
    "        \n",
    "   return(comparaisons) \n",
    "end\n",
    "\n",
    "    \n",
    "    \n"
   ]
  },
  {
   "cell_type": "code",
   "execution_count": 69,
   "id": "4b1adf8a",
   "metadata": {},
   "outputs": [
    {
     "data": {
      "text/plain": [
       "5×5 Matrix{Float64}:\n",
       "  0.0   0.0  -1.0  -1.0  -1.0\n",
       "  0.0   0.0   1.0   1.0  -1.0\n",
       " -1.0  -1.0   0.0  -1.0   0.0\n",
       "  1.0   0.0   1.0   0.0   1.0\n",
       "  1.0   0.0   1.0   1.0   0.0"
      ]
     },
     "execution_count": 69,
     "metadata": {},
     "output_type": "execute_result"
    }
   ],
   "source": [
    "#w1 = [0.1,0.2,0.3,0.8,1]\n",
    "#Q1 = createAnswerProbabilitiesBLT(w1)\n",
    "#questionsTaken1 = createAnsweredQuestions(5,5,3)\n",
    "answers1 =  sampleStudentQuestionMatrix(5,3,questionsTaken1,w1)\n"
   ]
  },
  {
   "cell_type": "code",
   "execution_count": 65,
   "id": "e6f6ab6f",
   "metadata": {},
   "outputs": [
    {
     "data": {
      "text/plain": [
       "Dict{Any, Any} with 5 entries:\n",
       "  5 => [3, 4, 1]\n",
       "  4 => [1, 5, 3]\n",
       "  2 => [3, 4, 5]\n",
       "  3 => [1, 4, 2]\n",
       "  1 => [4, 3, 5]"
      ]
     },
     "execution_count": 65,
     "metadata": {},
     "output_type": "execute_result"
    }
   ],
   "source": [
    "questionsTaken1"
   ]
  },
  {
   "cell_type": "code",
   "execution_count": 58,
   "id": "1de41dac",
   "metadata": {},
   "outputs": [
    {
     "data": {
      "text/plain": [
       "(5, 5)"
      ]
     },
     "execution_count": 58,
     "metadata": {},
     "output_type": "execute_result"
    }
   ],
   "source": [
    "size(questionsTaken1)"
   ]
  },
  {
   "cell_type": "code",
   "execution_count": 63,
   "id": "09ab1ddf",
   "metadata": {},
   "outputs": [
    {
     "data": {
      "text/plain": [
       "Dict{Any, Any} with 5 entries:\n",
       "  5 => [0.0 0.0 … 1.0 0.0; 0.0 0.0 … 0.0 0.0; … ; -1.0 0.0 … 0.0 0.0; 0.0 0.0 ……\n",
       "  4 => [0.0 0.0 … 0.0 1.0; 0.0 0.0 … 0.0 0.0; … ; 0.0 0.0 … 0.0 0.0; -1.0 0.0 ……\n",
       "  2 => [0.0 0.0 … 0.0 0.0; 0.0 0.0 … 0.0 0.0; … ; 0.0 0.0 … 0.0 -1.0; 0.0 0.0 ……\n",
       "  3 => [0.0 -1.0 … -1.0 0.0; 1.0 0.0 … -1.0 0.0; … ; 1.0 1.0 … 0.0 0.0; 0.0 0.0…\n",
       "  1 => [0.0 0.0 … 0.0 0.0; 0.0 0.0 … 0.0 0.0; … ; 0.0 0.0 … 0.0 1.0; 0.0 0.0 … …"
      ]
     },
     "execution_count": 63,
     "metadata": {},
     "output_type": "execute_result"
    }
   ],
   "source": [
    "orderedComparaisons =  computeOrderedPairs(questionsTaken1,3,5,Q1)"
   ]
  },
  {
   "cell_type": "code",
   "execution_count": 64,
   "id": "ade6d6a4",
   "metadata": {},
   "outputs": [
    {
     "data": {
      "text/plain": [
       "5×5 Matrix{Float64}:\n",
       " 0.0  0.0  0.0   0.0   0.0\n",
       " 0.0  0.0  0.0   0.0   0.0\n",
       " 0.0  0.0  0.0  -1.0  -1.0\n",
       " 0.0  0.0  1.0   0.0   1.0\n",
       " 0.0  0.0  1.0  -1.0   0.0"
      ]
     },
     "execution_count": 64,
     "metadata": {},
     "output_type": "execute_result"
    }
   ],
   "source": [
    "orderedComparaisons[1]"
   ]
  },
  {
   "cell_type": "code",
   "execution_count": null,
   "id": "f9b67588",
   "metadata": {},
   "outputs": [],
   "source": [
    "computeOrderedPairs(questions_taken,number_questions_taken,m,BLTMatrix)"
   ]
  },
  {
   "cell_type": "code",
   "execution_count": 35,
   "id": "052ca9b3",
   "metadata": {},
   "outputs": [
    {
     "data": {
      "text/plain": [
       "3-element Vector{Int64}:\n",
       " 5\n",
       " 4\n",
       " 3"
      ]
     },
     "execution_count": 35,
     "metadata": {},
     "output_type": "execute_result"
    }
   ],
   "source": [
    "answered[2]"
   ]
  },
  {
   "cell_type": "code",
   "execution_count": 34,
   "id": "52ad1c8a",
   "metadata": {},
   "outputs": [
    {
     "data": {
      "text/plain": [
       "3-element Vector{Vector{Int64}}:\n",
       " [5, 4]\n",
       " [5, 3]\n",
       " [4, 3]"
      ]
     },
     "execution_count": 34,
     "metadata": {},
     "output_type": "execute_result"
    }
   ],
   "source": [
    " subs =  collect(subsets(answered[2],2)) "
   ]
  },
  {
   "cell_type": "code",
   "execution_count": 36,
   "id": "672068e9",
   "metadata": {},
   "outputs": [
    {
     "data": {
      "text/plain": [
       "5×5 Matrix{Float64}:\n",
       " 0.0  0.0  0.0  0.0  0.0\n",
       " 0.0  0.0  0.0  0.0  0.0\n",
       " 0.0  0.0  0.0  0.0  0.0\n",
       " 0.0  0.0  0.0  0.0  0.0\n",
       " 0.0  0.0  0.0  0.0  0.0"
      ]
     },
     "execution_count": 36,
     "metadata": {},
     "output_type": "execute_result"
    }
   ],
   "source": [
    "pepe = zeros(5,5)"
   ]
  },
  {
   "cell_type": "code",
   "execution_count": 37,
   "id": "9c3d08fb",
   "metadata": {},
   "outputs": [
    {
     "data": {
      "text/plain": [
       "2-element Vector{Int64}:\n",
       " 5\n",
       " 4"
      ]
     },
     "execution_count": 37,
     "metadata": {},
     "output_type": "execute_result"
    }
   ],
   "source": [
    "current = subs[1]"
   ]
  },
  {
   "cell_type": "code",
   "execution_count": 39,
   "id": "72b91c8a",
   "metadata": {},
   "outputs": [
    {
     "data": {
      "text/plain": [
       "0.0"
      ]
     },
     "execution_count": 39,
     "metadata": {},
     "output_type": "execute_result"
    }
   ],
   "source": [
    "pepe[current[1],current[2]]"
   ]
  },
  {
   "cell_type": "code",
   "execution_count": 32,
   "id": "0dd1711e",
   "metadata": {},
   "outputs": [
    {
     "data": {
      "text/plain": [
       "2-element Vector{Int64}:\n",
       " 4\n",
       " 5"
      ]
     },
     "execution_count": 32,
     "metadata": {},
     "output_type": "execute_result"
    }
   ],
   "source": [
    "answered[2]"
   ]
  },
  {
   "cell_type": "code",
   "execution_count": null,
   "id": "072c70e7",
   "metadata": {},
   "outputs": [],
   "source": [
    " subs =  collect(answered[2],2)) "
   ]
  },
  {
   "cell_type": "code",
   "execution_count": 66,
   "id": "5b74647a",
   "metadata": {},
   "outputs": [
    {
     "data": {
      "text/plain": [
       "Dict{Int64, String} with 5 entries:\n",
       "  0  => \"asdf0\"\n",
       "  5  => \"asdf5\"\n",
       "  15 => \"asdf15\"\n",
       "  20 => \"asdf20\"\n",
       "  10 => \"asdf10\""
      ]
     },
     "execution_count": 66,
     "metadata": {},
     "output_type": "execute_result"
    }
   ],
   "source": [
    "dict = Dict(i => \"asdf\"*\"$i\" for i = 0:5:20)"
   ]
  },
  {
   "cell_type": "code",
   "execution_count": 72,
   "id": "91e4698c",
   "metadata": {},
   "outputs": [
    {
     "data": {
      "text/plain": [
       "\"asdf5\""
      ]
     },
     "execution_count": 72,
     "metadata": {},
     "output_type": "execute_result"
    }
   ],
   "source": [
    "dict[5]"
   ]
  }
 ],
 "metadata": {
  "kernelspec": {
   "display_name": "Julia 1.7.3",
   "language": "julia",
   "name": "julia-1.7"
  },
  "language_info": {
   "file_extension": ".jl",
   "mimetype": "application/julia",
   "name": "julia",
   "version": "1.7.3"
  }
 },
 "nbformat": 4,
 "nbformat_minor": 5
}
